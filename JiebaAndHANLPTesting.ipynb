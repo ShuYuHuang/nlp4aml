{
 "cells": [
  {
   "cell_type": "code",
   "execution_count": 1,
   "metadata": {},
   "outputs": [],
   "source": [
    "# Testing jieba traditional chinese version downloaded here https://github.com/ldkrsi/jieba-zh_TW\n",
    "import jieba"
   ]
  },
  {
   "cell_type": "code",
   "execution_count": 3,
   "metadata": {},
   "outputs": [
    {
     "name": "stdout",
     "output_type": "stream",
     "text": [
      "Full Mode: 自稱/ 房產/ 幽默/ 大師/ 的/ 王派/ 宏/ ，/ 涉/ 吸金/ 捲/ 款/ 25/ 億落/ 跑/ ！/ 他/ 自稱/ 炒房/ 專家/ ，/ 在/ 全台/ 授課/ 分享/ 理財/ ，/ 卻/ 遭/ 指控/ ，/ 4/ 月/ 28/ 號/ 突然/ 聯/ 繫/ 不/ 上/ ，/ 也/ 沒/ 上/ 課/ ，/ 顧問/ 公司/ 以為/ 他/ 發生/ 危險/ 立刻/ 報案/ ，/ 但/ 人/ 卻/ 已/ 經離/ 開台灣/ ，/ 被害/ 的/ 投資人/ 懷疑/ ，/ 王派/ 宏/ 已經/ 捲/ 款/ ，/ 急忙/ 報警/ 追人/ 。\n"
     ]
    }
   ],
   "source": [
    "test = \"自稱房產幽默大師的王派宏，涉吸金捲款25億落跑！他自稱炒房專家，在全台授課分享理財，卻遭指控，4月28號突然聯繫不上，也沒上課，顧問公司以為他發生危險立刻報案，但人卻已經離開台灣，被害的投資人懷疑，王派宏已經捲款，急忙報警追人。\"\n",
    "seg_list = jieba.cut(test, cut_all=False)\n",
    "print(\"Full Mode: \" + \"/ \".join(seg_list))  # 全模式"
   ]
  },
  {
   "cell_type": "code",
   "execution_count": 5,
   "metadata": {},
   "outputs": [
    {
     "name": "stdout",
     "output_type": "stream",
     "text": [
      "Full Mode: 自/ 稱/ 房/ 產/ 幽默/ 大師/ 的/ 王派宏，/ 涉/ 吸金/ 捲款/ 25億/ 落/ 跑/ ！/ 他/ 自稱/ 炒房/ 專家/ ，/ 在/ 全台/ 授課/ 分享/ 理財，卻/ 遭/ 指控/ ，/ 4月28/ 號/ 突然/ 聯繫/ 不/ 上/ ，/ 也/ 沒/ 上/ 課，顧問公司/ 以為/ 他/ 發生/ 危險/ 立刻/ 報案，/ 但/ 人/ 卻已經離開台灣，/ 被害/ 的/ 投資/ 人/ 懷疑/ ，王派宏已經捲款，急忙報警追人。\n"
     ]
    }
   ],
   "source": [
    "test = \"自稱房產幽默大師的王派宏，涉吸金捲款25億落跑！他自稱炒房專家，在全台授課分享理財，卻遭指控，4月28號突然聯繫不上，也沒上課，顧問公司以為他發生危險立刻報案，但人卻已經離開台灣，被害的投資人懷疑，王派宏已經捲款，急忙報警追人。\"\n",
    "seg_list = jieba.cut(test, use_paddle=True)\n",
    "print(\"Full Mode: \" + \"/ \".join(seg_list))  # 全模式"
   ]
  },
  {
   "cell_type": "code",
   "execution_count": 6,
   "metadata": {},
   "outputs": [
    {
     "name": "stdout",
     "output_type": "stream",
     "text": [
      "下载 https://file.hankcs.com/bin/hanlp-1.7.8-release.zip 到 /Users/ERIC/opt/anaconda3/lib/python3.7/site-packages/pyhanlp/static/hanlp-1.7.8-release.zip\n",
      "100.00%, 1 MB, 459 KB/s, 还有 0 分  0 秒   \n",
      "下载 https://file.hankcs.com/hanlp/data-for-1.7.5.zip 到 /Users/ERIC/opt/anaconda3/lib/python3.7/site-packages/pyhanlp/static/data-for-1.7.8.zip\n",
      "99.93%, 637 MB, 7386 KB/s, 还有 0 分  0 秒   "
     ]
    }
   ],
   "source": [
    "from pyhanlp import *"
   ]
  },
  {
   "cell_type": "code",
   "execution_count": 7,
   "metadata": {},
   "outputs": [
    {
     "name": "stdout",
     "output_type": "stream",
     "text": [
      "自稱/v 房產/n 幽默/a 大師/n 的/u 王/nr 派宏/Ng ，/w 涉/Vg 吸金/n 捲款/n 25億/m 落跑/v ！/w 他/r 自稱/v 炒房/n 專家/n ，/w 在/p 全台/n 授課/v 分享/v 理財/vn ，/w 卻/d 遭/v 指控/vn ，/w 4月/t 28/m 號/q 突然/ad 聯繫/v 不/d 上/v ，/w 也/d 沒/d 上課/v ，/w 顧問/n 公司/n 以為/v 他/r 發生/v 危險/an 立刻/d 報案/v ，/w 但/c 人/n 卻/d 已經/d 離開/v 台灣/ns ，/w 被害/v 的/u 投資人/n 懷疑/v ，/w 王派宏/nr 已經/d 捲款/n ，/w 急忙/d 報警/v 追/v 人/n 。/w\n"
     ]
    }
   ],
   "source": [
    "analyzer = PerceptronLexicalAnalyzer()\n",
    "print(analyzer.analyze(test))"
   ]
  },
  {
   "cell_type": "code",
   "execution_count": null,
   "metadata": {},
   "outputs": [],
   "source": []
  }
 ],
 "metadata": {
  "kernelspec": {
   "display_name": "Python 3",
   "language": "python",
   "name": "python3"
  },
  "language_info": {
   "codemirror_mode": {
    "name": "ipython",
    "version": 3
   },
   "file_extension": ".py",
   "mimetype": "text/x-python",
   "name": "python",
   "nbconvert_exporter": "python",
   "pygments_lexer": "ipython3",
   "version": "3.7.6"
  }
 },
 "nbformat": 4,
 "nbformat_minor": 4
}
