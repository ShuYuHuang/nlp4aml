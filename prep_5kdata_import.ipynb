{
  "nbformat": 4,
  "nbformat_minor": 0,
  "metadata": {
    "colab": {
      "name": "TestNLP.ipynb",
      "provenance": [],
      "authorship_tag": "ABX9TyNsC4a5qwmB8S9xoq7gLHw5",
      "include_colab_link": true
    },
    "kernelspec": {
      "name": "python3",
      "display_name": "Python 3"
    },
    "accelerator": "GPU"
  },
  "cells": [
    {
      "cell_type": "markdown",
      "metadata": {
        "id": "view-in-github",
        "colab_type": "text"
      },
      "source": [
        "<a href=\"https://colab.research.google.com/github/ShuYuHuang/nlp4aml/blob/master/prep_5kdata_import.ipynb\" target=\"_parent\"><img src=\"https://colab.research.google.com/assets/colab-badge.svg\" alt=\"Open In Colab\"/></a>"
      ]
    },
    {
      "cell_type": "code",
      "metadata": {
        "id": "JfC94Sb_XgP0",
        "colab_type": "code",
        "colab": {
          "base_uri": "https://localhost:8080/",
          "height": 121
        },
        "outputId": "312c33b4-efeb-4733-b285-a44e4573e9a2"
      },
      "source": [
        "from google.colab import drive\n",
        "drive.mount('~/drive')"
      ],
      "execution_count": 4,
      "outputs": [
        {
          "output_type": "stream",
          "text": [
            "Go to this URL in a browser: https://accounts.google.com/o/oauth2/auth?client_id=947318989803-6bn6qk8qdgf4n4g3pfee6491hc0brc4i.apps.googleusercontent.com&redirect_uri=urn%3aietf%3awg%3aoauth%3a2.0%3aoob&response_type=code&scope=email%20https%3a%2f%2fwww.googleapis.com%2fauth%2fdocs.test%20https%3a%2f%2fwww.googleapis.com%2fauth%2fdrive%20https%3a%2f%2fwww.googleapis.com%2fauth%2fdrive.photos.readonly%20https%3a%2f%2fwww.googleapis.com%2fauth%2fpeopleapi.readonly\n",
            "\n",
            "Enter your authorization code:\n",
            "··········\n",
            "Mounted at /root/drive\n"
          ],
          "name": "stdout"
        }
      ]
    },
    {
      "cell_type": "code",
      "metadata": {
        "id": "iT7p0UdudlxF",
        "colab_type": "code",
        "colab": {
          "base_uri": "https://localhost:8080/",
          "height": 202
        },
        "outputId": "07b5c4b0-e587-44a0-8bc3-45821636c268"
      },
      "source": [
        "!pip install hanziconv\n",
        "!pip install jieba"
      ],
      "execution_count": 1,
      "outputs": [
        {
          "output_type": "stream",
          "text": [
            "Collecting hanziconv\n",
            "\u001b[?25l  Downloading https://files.pythonhosted.org/packages/63/71/b89cb63077fd807fe31cf7c016a06e7e579a289d8a37aa24a30282d02dd2/hanziconv-0.3.2.tar.gz (276kB)\n",
            "\r\u001b[K     |█▏                              | 10kB 26.9MB/s eta 0:00:01\r\u001b[K     |██▍                             | 20kB 6.1MB/s eta 0:00:01\r\u001b[K     |███▌                            | 30kB 7.4MB/s eta 0:00:01\r\u001b[K     |████▊                           | 40kB 8.1MB/s eta 0:00:01\r\u001b[K     |██████                          | 51kB 6.7MB/s eta 0:00:01\r\u001b[K     |███████                         | 61kB 7.1MB/s eta 0:00:01\r\u001b[K     |████████▎                       | 71kB 7.7MB/s eta 0:00:01\r\u001b[K     |█████████▌                      | 81kB 8.3MB/s eta 0:00:01\r\u001b[K     |██████████▋                     | 92kB 7.8MB/s eta 0:00:01\r\u001b[K     |███████████▉                    | 102kB 8.0MB/s eta 0:00:01\r\u001b[K     |█████████████                   | 112kB 8.0MB/s eta 0:00:01\r\u001b[K     |██████████████▏                 | 122kB 8.0MB/s eta 0:00:01\r\u001b[K     |███████████████▍                | 133kB 8.0MB/s eta 0:00:01\r\u001b[K     |████████████████▋               | 143kB 8.0MB/s eta 0:00:01\r\u001b[K     |█████████████████▊              | 153kB 8.0MB/s eta 0:00:01\r\u001b[K     |███████████████████             | 163kB 8.0MB/s eta 0:00:01\r\u001b[K     |████████████████████▏           | 174kB 8.0MB/s eta 0:00:01\r\u001b[K     |█████████████████████▎          | 184kB 8.0MB/s eta 0:00:01\r\u001b[K     |██████████████████████▌         | 194kB 8.0MB/s eta 0:00:01\r\u001b[K     |███████████████████████▊        | 204kB 8.0MB/s eta 0:00:01\r\u001b[K     |████████████████████████▉       | 215kB 8.0MB/s eta 0:00:01\r\u001b[K     |██████████████████████████      | 225kB 8.0MB/s eta 0:00:01\r\u001b[K     |███████████████████████████▎    | 235kB 8.0MB/s eta 0:00:01\r\u001b[K     |████████████████████████████▍   | 245kB 8.0MB/s eta 0:00:01\r\u001b[K     |█████████████████████████████▋  | 256kB 8.0MB/s eta 0:00:01\r\u001b[K     |██████████████████████████████▉ | 266kB 8.0MB/s eta 0:00:01\r\u001b[K     |████████████████████████████████| 276kB 8.0MB/s eta 0:00:01\r\u001b[K     |████████████████████████████████| 286kB 8.0MB/s \n",
            "\u001b[?25hBuilding wheels for collected packages: hanziconv\n",
            "  Building wheel for hanziconv (setup.py) ... \u001b[?25l\u001b[?25hdone\n",
            "  Created wheel for hanziconv: filename=hanziconv-0.3.2-py2.py3-none-any.whl size=23215 sha256=40f0d91028512a64676c291c3433f47b6a9fc2ba16ef8a9eb00af142bd5a9682\n",
            "  Stored in directory: /root/.cache/pip/wheels/03/d8/3c/c39898fa9c9ce6e34b0ab4c6604892462d440c743715c94054\n",
            "Successfully built hanziconv\n",
            "Installing collected packages: hanziconv\n",
            "Successfully installed hanziconv-0.3.2\n",
            "Requirement already satisfied: jieba in /usr/local/lib/python3.6/dist-packages (0.42.1)\n"
          ],
          "name": "stdout"
        }
      ]
    },
    {
      "cell_type": "code",
      "metadata": {
        "id": "oudCKmSmbeYD",
        "colab_type": "code",
        "colab": {}
      },
      "source": [
        "# coding=utf-8\n",
        "import jieba \n",
        "from hanziconv import HanziConv\n",
        "import numpy as np\n",
        "import pandas as pd"
      ],
      "execution_count": 5,
      "outputs": []
    },
    {
      "cell_type": "code",
      "metadata": {
        "id": "WHrDgVjVb2Mw",
        "colab_type": "code",
        "colab": {}
      },
      "source": [
        "data_pd=pd.read_csv('/root/drive/My Drive/ColabData/tbrain_train_final_0610.csv')"
      ],
      "execution_count": 6,
      "outputs": []
    },
    {
      "cell_type": "code",
      "metadata": {
        "id": "vI-zWkTTfLQL",
        "colab_type": "code",
        "colab": {
          "base_uri": "https://localhost:8080/",
          "height": 528
        },
        "outputId": "883d6615-b464-4a0f-f90b-d140c7f0c3ad"
      },
      "source": [
        "data_pd.sample(10)"
      ],
      "execution_count": null,
      "outputs": [
        {
          "output_type": "execute_result",
          "data": {
            "text/html": [
              "<div>\n",
              "<style scoped>\n",
              "    .dataframe tbody tr th:only-of-type {\n",
              "        vertical-align: middle;\n",
              "    }\n",
              "\n",
              "    .dataframe tbody tr th {\n",
              "        vertical-align: top;\n",
              "    }\n",
              "\n",
              "    .dataframe thead th {\n",
              "        text-align: right;\n",
              "    }\n",
              "</style>\n",
              "<table border=\"1\" class=\"dataframe\">\n",
              "  <thead>\n",
              "    <tr style=\"text-align: right;\">\n",
              "      <th></th>\n",
              "      <th>news_ID</th>\n",
              "      <th>hyperlink</th>\n",
              "      <th>content</th>\n",
              "      <th>name</th>\n",
              "      <th>seg</th>\n",
              "    </tr>\n",
              "  </thead>\n",
              "  <tbody>\n",
              "    <tr>\n",
              "      <th>2988</th>\n",
              "      <td>2989</td>\n",
              "      <td>https://news.cnyes.com/news/id/4356212</td>\n",
              "      <td>台股台股新聞〈太陽能寒冬來〉不堪電池業務虧損聯合再生湖口廠裁員239人鉅亨網編輯陳于晴201...</td>\n",
              "      <td>[]</td>\n",
              "      <td>[台, 股台, 股新聞, 〈, 太陽能, 寒冬, 來, 〉, 不堪, 電池, 業務虧, 損聯...</td>\n",
              "    </tr>\n",
              "    <tr>\n",
              "      <th>4253</th>\n",
              "      <td>4254</td>\n",
              "      <td>http://technews.tw/2019/08/08/low-orbit-satell...</td>\n",
              "      <td>2019年 ### 省略內文 ### 時時更新科技新報粉絲團訂閱免費電子報</td>\n",
              "      <td>[]</td>\n",
              "      <td>[2019, 年,  , ###,  , 省略, 內文,  , ###,  , 時時, 更新...</td>\n",
              "    </tr>\n",
              "    <tr>\n",
              "      <th>208</th>\n",
              "      <td>209</td>\n",
              "      <td>https://tw.news.yahoo.com/%E5%BB%89%E6%94%BF-%...</td>\n",
              "      <td>曾在電視劇《廉政英雄》 ### 省略內文 ### 斷送自己的演藝路。</td>\n",
              "      <td>['陳淳伍']</td>\n",
              "      <td>[曾, 在, 電視劇, 《, 廉政, 英雄, 》,  , ###,  , 省略, 內文,  ...</td>\n",
              "    </tr>\n",
              "    <tr>\n",
              "      <th>1233</th>\n",
              "      <td>1234</td>\n",
              "      <td>https://news.cnyes.com/news/id/4353267</td>\n",
              "      <td>台股台股新聞智擎胰臟癌新藥明年取得日本藥證估營運優於今年鉅亨網記者沈筱禎台北2019/07/...</td>\n",
              "      <td>[]</td>\n",
              "      <td>[台股, 台股, 新聞智擎, 胰臟癌, 新藥, 明年, 取得, 日本, 藥證, 估營, 運優...</td>\n",
              "    </tr>\n",
              "    <tr>\n",
              "      <th>974</th>\n",
              "      <td>975</td>\n",
              "      <td>https://m.ctee.com.tw/livenews/lm/chinatimes/2...</td>\n",
              "      <td>10月5日香港蘇富比2019年秋拍「現代藝術晚間拍賣」在香港會議展覽中心登場 ### 省略內...</td>\n",
              "      <td>[]</td>\n",
              "      <td>[10, 月, 5, 日, 香港, 蘇, 富比, 2019, 年秋, 拍, 「, 現代藝術,...</td>\n",
              "    </tr>\n",
              "    <tr>\n",
              "      <th>2392</th>\n",
              "      <td>2393</td>\n",
              "      <td>https://news.mingpao.com/ins/%e6%b8%af%e8%81%9...</td>\n",
              "      <td>(10:25) prevnext 《人民日報》今日（12月1日）發表評論員文章 ### 省略...</td>\n",
              "      <td>[]</td>\n",
              "      <td>[(, 10, :, 25, ),  , prevnext,  , 《, 人民, 日報, 》...</td>\n",
              "    </tr>\n",
              "    <tr>\n",
              "      <th>2497</th>\n",
              "      <td>2498</td>\n",
              "      <td>https://www.chinatimes.com/realtimenews/201909...</td>\n",
              "      <td>一名陳姓網友昨晚於臉書社團《爆料公社》PO文 ### 省略內文 ### 請民眾切勿以身試法。...</td>\n",
              "      <td>[]</td>\n",
              "      <td>[一名, 陳, 姓, 網友, 昨晚, 於, 臉書, 社團, 《, 爆料, 公社, 》, PO...</td>\n",
              "    </tr>\n",
              "    <tr>\n",
              "      <th>2102</th>\n",
              "      <td>2103</td>\n",
              "      <td>https://www.hk01.com/社會新聞/399148/11-18交通消息</td>\n",
              "      <td>11月18日交通消息：港鐵：港鐵各綫(機場快綫除外)、輕鐵及港鐵巴士的服務將於晚上11時結束...</td>\n",
              "      <td>[]</td>\n",
              "      <td>[11, 月, 18, 日, 交通, 消息, ：, 港鐵, ：, 港鐵, 各, 綫, (, ...</td>\n",
              "    </tr>\n",
              "    <tr>\n",
              "      <th>808</th>\n",
              "      <td>809</td>\n",
              "      <td>https://news.cnyes.com/news/id/4350077</td>\n",
              "      <td>0A股港股大陸政經車市寒流將告終？陸商務部：6月汽車銷售明顯回升鉅亨網編譯林信男綜合外電報導...</td>\n",
              "      <td>[]</td>\n",
              "      <td>[0, A股, 港股, 大陸政經, 車市, 寒流, 將告終, ？, 陸商務部, ：, 6, ...</td>\n",
              "    </tr>\n",
              "    <tr>\n",
              "      <th>1445</th>\n",
              "      <td>1446</td>\n",
              "      <td>https://www.mirrormedia.mg/story/20190719gamef...</td>\n",
              "      <td>動漫遊戲2019.07.19 07:08FaceApp曬老臉正夯卻也暗藏隱私外洩風險文｜周文...</td>\n",
              "      <td>[]</td>\n",
              "      <td>[動漫, 遊戲, 2019.07, ., 19,  , 07, :, 08FaceApp, ...</td>\n",
              "    </tr>\n",
              "  </tbody>\n",
              "</table>\n",
              "</div>"
            ],
            "text/plain": [
              "      news_ID  ...                                                seg\n",
              "2988     2989  ...  [台, 股台, 股新聞, 〈, 太陽能, 寒冬, 來, 〉, 不堪, 電池, 業務虧, 損聯...\n",
              "4253     4254  ...  [2019, 年,  , ###,  , 省略, 內文,  , ###,  , 時時, 更新...\n",
              "208       209  ...  [曾, 在, 電視劇, 《, 廉政, 英雄, 》,  , ###,  , 省略, 內文,  ...\n",
              "1233     1234  ...  [台股, 台股, 新聞智擎, 胰臟癌, 新藥, 明年, 取得, 日本, 藥證, 估營, 運優...\n",
              "974       975  ...  [10, 月, 5, 日, 香港, 蘇, 富比, 2019, 年秋, 拍, 「, 現代藝術,...\n",
              "2392     2393  ...  [(, 10, :, 25, ),  , prevnext,  , 《, 人民, 日報, 》...\n",
              "2497     2498  ...  [一名, 陳, 姓, 網友, 昨晚, 於, 臉書, 社團, 《, 爆料, 公社, 》, PO...\n",
              "2102     2103  ...  [11, 月, 18, 日, 交通, 消息, ：, 港鐵, ：, 港鐵, 各, 綫, (, ...\n",
              "808       809  ...  [0, A股, 港股, 大陸政經, 車市, 寒流, 將告終, ？, 陸商務部, ：, 6, ...\n",
              "1445     1446  ...  [動漫, 遊戲, 2019.07, ., 19,  , 07, :, 08FaceApp, ...\n",
              "\n",
              "[10 rows x 5 columns]"
            ]
          },
          "metadata": {
            "tags": []
          },
          "execution_count": 33
        }
      ]
    },
    {
      "cell_type": "code",
      "metadata": {
        "id": "SnV0OtkpiGY0",
        "colab_type": "code",
        "colab": {}
      },
      "source": [
        "def word_seg(x):\n",
        "  return list(jieba.cut(x,cut_all=False))"
      ],
      "execution_count": null,
      "outputs": []
    },
    {
      "cell_type": "code",
      "metadata": {
        "id": "o_jUpMzLimY4",
        "colab_type": "code",
        "colab": {}
      },
      "source": [
        "data_pd['seg']=data_pd.content.apply(lambda x: word_seg(x))"
      ],
      "execution_count": null,
      "outputs": []
    },
    {
      "cell_type": "code",
      "metadata": {
        "id": "dSHobSgXkhBG",
        "colab_type": "code",
        "colab": {
          "base_uri": "https://localhost:8080/",
          "height": 128
        },
        "outputId": "97f62683-ab06-48b8-ffb2-10fe24931d5e"
      },
      "source": [
        "data_pd['name']=data_pd['name'].apply(lambda x: )"
      ],
      "execution_count": null,
      "outputs": [
        {
          "output_type": "error",
          "ename": "SyntaxError",
          "evalue": "ignored",
          "traceback": [
            "\u001b[0;36m  File \u001b[0;32m\"<ipython-input-62-241e7c16f02d>\"\u001b[0;36m, line \u001b[0;32m1\u001b[0m\n\u001b[0;31m    data_pd['name']=data_pd['name'].apply(lambda x: ['' if x=='[]'])\u001b[0m\n\u001b[0m                                                                  ^\u001b[0m\n\u001b[0;31mSyntaxError\u001b[0m\u001b[0;31m:\u001b[0m invalid syntax\n"
          ]
        }
      ]
    },
    {
      "cell_type": "code",
      "metadata": {
        "id": "LXRkMhhskklp",
        "colab_type": "code",
        "colab": {}
      },
      "source": [
        "data_pd['name'][data_pd['name']=='[]']=data_pd['name']"
      ],
      "execution_count": null,
      "outputs": []
    },
    {
      "cell_type": "code",
      "metadata": {
        "id": "r7cwvz4Tk1VA",
        "colab_type": "code",
        "colab": {
          "base_uri": "https://localhost:8080/",
          "height": 34
        },
        "outputId": "57d8342a-530d-4344-8092-afde16dba568"
      },
      "source": [
        "data_pd['name'][0]"
      ],
      "execution_count": null,
      "outputs": [
        {
          "output_type": "execute_result",
          "data": {
            "text/plain": [
              "'[]'"
            ]
          },
          "metadata": {
            "tags": []
          },
          "execution_count": 60
        }
      ]
    },
    {
      "cell_type": "code",
      "metadata": {
        "id": "_XOz1jVz9b4t",
        "colab_type": "code",
        "colab": {
          "base_uri": "https://localhost:8080/",
          "height": 34
        },
        "outputId": "cd636ef5-ca69-46db-9337-a9a54eddeda0"
      },
      "source": [
        "data_pd['name'][3346][1]"
      ],
      "execution_count": null,
      "outputs": [
        {
          "output_type": "execute_result",
          "data": {
            "text/plain": [
              "']'"
            ]
          },
          "metadata": {
            "tags": []
          },
          "execution_count": 52
        }
      ]
    },
    {
      "cell_type": "code",
      "metadata": {
        "id": "Zj2KRAAU9g7E",
        "colab_type": "code",
        "colab": {
          "base_uri": "https://localhost:8080/",
          "height": 34
        },
        "outputId": "8dcf3050-143e-4fba-8626-64c8f20eadaf"
      },
      "source": [
        "[0,1,2,3][1:-1]"
      ],
      "execution_count": null,
      "outputs": [
        {
          "output_type": "execute_result",
          "data": {
            "text/plain": [
              "[1, 2]"
            ]
          },
          "metadata": {
            "tags": []
          },
          "execution_count": 58
        }
      ]
    },
    {
      "cell_type": "code",
      "metadata": {
        "id": "xdaTpkfr97r0",
        "colab_type": "code",
        "colab": {}
      },
      "source": [
        ""
      ],
      "execution_count": null,
      "outputs": []
    }
  ]
}