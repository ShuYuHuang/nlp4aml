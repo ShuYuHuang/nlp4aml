{
  "nbformat": 4,
  "nbformat_minor": 0,
  "metadata": {
    "colab": {
      "name": "Copy of prep_5kdata_import.ipynb",
      "provenance": [],
      "collapsed_sections": [],
      "authorship_tag": "ABX9TyMk0bBLJ9PV0QPe16U9CayC",
      "include_colab_link": true
    },
    "kernelspec": {
      "name": "python3",
      "display_name": "Python 3"
    },
    "accelerator": "GPU"
  },
  "cells": [
    {
      "cell_type": "markdown",
      "metadata": {
        "id": "view-in-github",
        "colab_type": "text"
      },
      "source": [
        "<a href=\"https://colab.research.google.com/github/ShuYuHuang/nlp4aml/blob/master/prep_5kdata_import.ipynb\" target=\"_parent\"><img src=\"https://colab.research.google.com/assets/colab-badge.svg\" alt=\"Open In Colab\"/></a>"
      ]
    },
    {
      "cell_type": "code",
      "metadata": {
        "id": "JfC94Sb_XgP0",
        "colab_type": "code",
        "colab": {
          "base_uri": "https://localhost:8080/",
          "height": 128
        },
        "outputId": "7d879290-f2d5-4278-b465-ddbcf6709eb1"
      },
      "source": [
        "from google.colab import drive\n",
        "drive.mount('~/drive')"
      ],
      "execution_count": null,
      "outputs": [
        {
          "output_type": "stream",
          "text": [
            "Go to this URL in a browser: https://accounts.google.com/o/oauth2/auth?client_id=947318989803-6bn6qk8qdgf4n4g3pfee6491hc0brc4i.apps.googleusercontent.com&redirect_uri=urn%3aietf%3awg%3aoauth%3a2.0%3aoob&response_type=code&scope=email%20https%3a%2f%2fwww.googleapis.com%2fauth%2fdocs.test%20https%3a%2f%2fwww.googleapis.com%2fauth%2fdrive%20https%3a%2f%2fwww.googleapis.com%2fauth%2fdrive.photos.readonly%20https%3a%2f%2fwww.googleapis.com%2fauth%2fpeopleapi.readonly\n",
            "\n",
            "Enter your authorization code:\n",
            "··········\n",
            "Mounted at /root/drive\n"
          ],
          "name": "stdout"
        }
      ]
    },
    {
      "cell_type": "code",
      "metadata": {
        "id": "iT7p0UdudlxF",
        "colab_type": "code",
        "colab": {
          "base_uri": "https://localhost:8080/",
          "height": 217
        },
        "outputId": "396c0e84-f5e2-4817-f231-9e8a6cdba8ed"
      },
      "source": [
        "!pip install hanziconv\n",
        "!pip install jieba"
      ],
      "execution_count": null,
      "outputs": [
        {
          "output_type": "stream",
          "text": [
            "Collecting hanziconv\n",
            "\u001b[?25l  Downloading https://files.pythonhosted.org/packages/63/71/b89cb63077fd807fe31cf7c016a06e7e579a289d8a37aa24a30282d02dd2/hanziconv-0.3.2.tar.gz (276kB)\n",
            "\r\u001b[K     |█▏                              | 10kB 26.7MB/s eta 0:00:01\r\u001b[K     |██▍                             | 20kB 30.0MB/s eta 0:00:01\r\u001b[K     |███▌                            | 30kB 35.1MB/s eta 0:00:01\r\u001b[K     |████▊                           | 40kB 16.5MB/s eta 0:00:01\r\u001b[K     |██████                          | 51kB 13.3MB/s eta 0:00:01\r\u001b[K     |███████                         | 61kB 12.3MB/s eta 0:00:01\r\u001b[K     |████████▎                       | 71kB 11.3MB/s eta 0:00:01\r\u001b[K     |█████████▌                      | 81kB 11.3MB/s eta 0:00:01\r\u001b[K     |██████████▋                     | 92kB 11.2MB/s eta 0:00:01\r\u001b[K     |███████████▉                    | 102kB 11.6MB/s eta 0:00:01\r\u001b[K     |█████████████                   | 112kB 11.6MB/s eta 0:00:01\r\u001b[K     |██████████████▏                 | 122kB 11.6MB/s eta 0:00:01\r\u001b[K     |███████████████▍                | 133kB 11.6MB/s eta 0:00:01\r\u001b[K     |████████████████▋               | 143kB 11.6MB/s eta 0:00:01\r\u001b[K     |█████████████████▊              | 153kB 11.6MB/s eta 0:00:01\r\u001b[K     |███████████████████             | 163kB 11.6MB/s eta 0:00:01\r\u001b[K     |████████████████████▏           | 174kB 11.6MB/s eta 0:00:01\r\u001b[K     |█████████████████████▎          | 184kB 11.6MB/s eta 0:00:01\r\u001b[K     |██████████████████████▌         | 194kB 11.6MB/s eta 0:00:01\r\u001b[K     |███████████████████████▊        | 204kB 11.6MB/s eta 0:00:01\r\u001b[K     |████████████████████████▉       | 215kB 11.6MB/s eta 0:00:01\r\u001b[K     |██████████████████████████      | 225kB 11.6MB/s eta 0:00:01\r\u001b[K     |███████████████████████████▎    | 235kB 11.6MB/s eta 0:00:01\r\u001b[K     |████████████████████████████▍   | 245kB 11.6MB/s eta 0:00:01\r\u001b[K     |█████████████████████████████▋  | 256kB 11.6MB/s eta 0:00:01\r\u001b[K     |██████████████████████████████▉ | 266kB 11.6MB/s eta 0:00:01\r\u001b[K     |████████████████████████████████| 276kB 11.6MB/s eta 0:00:01\r\u001b[K     |████████████████████████████████| 286kB 11.6MB/s \n",
            "\u001b[?25hBuilding wheels for collected packages: hanziconv\n",
            "  Building wheel for hanziconv (setup.py) ... \u001b[?25l\u001b[?25hdone\n",
            "  Created wheel for hanziconv: filename=hanziconv-0.3.2-py2.py3-none-any.whl size=23215 sha256=fe0038889da46bb69795855f846096b4e92b34b41a1187c2d78f7d585c9fdd0e\n",
            "  Stored in directory: /root/.cache/pip/wheels/03/d8/3c/c39898fa9c9ce6e34b0ab4c6604892462d440c743715c94054\n",
            "Successfully built hanziconv\n",
            "Installing collected packages: hanziconv\n",
            "Successfully installed hanziconv-0.3.2\n",
            "Requirement already satisfied: jieba in /usr/local/lib/python3.6/dist-packages (0.42.1)\n"
          ],
          "name": "stdout"
        }
      ]
    },
    {
      "cell_type": "code",
      "metadata": {
        "id": "oudCKmSmbeYD",
        "colab_type": "code",
        "colab": {}
      },
      "source": [
        "# coding=utf-8\n",
        "import jieba \n",
        "from hanziconv import HanziConv\n",
        "import numpy as np\n",
        "import pandas as pd\n",
        "import requests\n",
        "from bs4 import BeautifulSoup"
      ],
      "execution_count": null,
      "outputs": []
    },
    {
      "cell_type": "code",
      "metadata": {
        "id": "WHrDgVjVb2Mw",
        "colab_type": "code",
        "colab": {}
      },
      "source": [
        "file_loc='/root/drive/My Drive/ColabData/'\n",
        "data_pd=pd.read_csv(file_loc+'tbrain_train_final_0610.csv')\n",
        "def get_homepage(site):\n",
        "  cnt=0\n",
        "  begin=0\n",
        "  for ee, ww in enumerate(site):\n",
        "      if ww=='/':\n",
        "        cnt+=1\n",
        "        if cnt==2:\n",
        "          begin=ee+1\n",
        "        elif cnt==3:\n",
        "          return site[begin:ee]\n",
        "  return 0\n",
        "data_pd['homepage']=data_pd['hyperlink'].apply(lambda w: get_homepage(w))"
      ],
      "execution_count": null,
      "outputs": []
    },
    {
      "cell_type": "code",
      "metadata": {
        "id": "vI-zWkTTfLQL",
        "colab_type": "code",
        "colab": {
          "base_uri": "https://localhost:8080/",
          "height": 198
        },
        "outputId": "42ddfa17-40c5-4b71-bd5f-89af875a076f"
      },
      "source": [
        "data_pd.sample(5)"
      ],
      "execution_count": null,
      "outputs": [
        {
          "output_type": "execute_result",
          "data": {
            "text/html": [
              "<div>\n",
              "<style scoped>\n",
              "    .dataframe tbody tr th:only-of-type {\n",
              "        vertical-align: middle;\n",
              "    }\n",
              "\n",
              "    .dataframe tbody tr th {\n",
              "        vertical-align: top;\n",
              "    }\n",
              "\n",
              "    .dataframe thead th {\n",
              "        text-align: right;\n",
              "    }\n",
              "</style>\n",
              "<table border=\"1\" class=\"dataframe\">\n",
              "  <thead>\n",
              "    <tr style=\"text-align: right;\">\n",
              "      <th></th>\n",
              "      <th>news_ID</th>\n",
              "      <th>hyperlink</th>\n",
              "      <th>content</th>\n",
              "      <th>name</th>\n",
              "      <th>homepage</th>\n",
              "    </tr>\n",
              "  </thead>\n",
              "  <tbody>\n",
              "    <tr>\n",
              "      <th>291</th>\n",
              "      <td>292</td>\n",
              "      <td>https://news.cnyes.com/news/id/4369409</td>\n",
              "      <td>0台股台股盤勢【華冠投顧】幸運星-全命中！！連三漲！！賺錢的能量持續加大中！！華冠投顧※來源...</td>\n",
              "      <td>[]</td>\n",
              "      <td>news.cnyes.com</td>\n",
              "    </tr>\n",
              "    <tr>\n",
              "      <th>4551</th>\n",
              "      <td>4552</td>\n",
              "      <td>https://news.cnyes.com/news/id/4369175</td>\n",
              "      <td>A股港股大陸政經人行官員：降準備金率有空間但別期待太多鉅亨網編輯江泰傑2019/08/20 ...</td>\n",
              "      <td>[]</td>\n",
              "      <td>news.cnyes.com</td>\n",
              "    </tr>\n",
              "    <tr>\n",
              "      <th>900</th>\n",
              "      <td>901</td>\n",
              "      <td>https://www.chinatimes.com/newspapers/20191125...</td>\n",
              "      <td>11月23日早晨 ### 省略內文 ### 讓社會更加幸福和諧。</td>\n",
              "      <td>[]</td>\n",
              "      <td>www.chinatimes.com</td>\n",
              "    </tr>\n",
              "    <tr>\n",
              "      <th>2363</th>\n",
              "      <td>2364</td>\n",
              "      <td>https://www.bnext.com.tw/article/54760/digital...</td>\n",
              "      <td>在金融科技的趨勢下 ### 省略內文 ### 設計出金融服務的新樣貌。</td>\n",
              "      <td>[]</td>\n",
              "      <td>www.bnext.com.tw</td>\n",
              "    </tr>\n",
              "    <tr>\n",
              "      <th>4857</th>\n",
              "      <td>4858</td>\n",
              "      <td>https://www.mirrormedia.mg/story/20190725cnt001/</td>\n",
              "      <td>2019.07.25 02:17頂新油案聲請提案大法庭魏應充：期待回歸理性 ### 省略內文...</td>\n",
              "      <td>[]</td>\n",
              "      <td>www.mirrormedia.mg</td>\n",
              "    </tr>\n",
              "  </tbody>\n",
              "</table>\n",
              "</div>"
            ],
            "text/plain": [
              "      news_ID  ...            homepage\n",
              "291       292  ...      news.cnyes.com\n",
              "4551     4552  ...      news.cnyes.com\n",
              "900       901  ...  www.chinatimes.com\n",
              "2363     2364  ...    www.bnext.com.tw\n",
              "4857     4858  ...  www.mirrormedia.mg\n",
              "\n",
              "[5 rows x 5 columns]"
            ]
          },
          "metadata": {
            "tags": []
          },
          "execution_count": 6
        }
      ]
    },
    {
      "cell_type": "code",
      "metadata": {
        "id": "Q8wexGijMPgM",
        "colab_type": "code",
        "colab": {
          "base_uri": "https://localhost:8080/",
          "height": 745
        },
        "outputId": "bbb95a5d-de74-4c4a-b10f-177bfe256714"
      },
      "source": [
        "data_pd['homepage'].value_counts()"
      ],
      "execution_count": null,
      "outputs": [
        {
          "output_type": "execute_result",
          "data": {
            "text/plain": [
              "news.cnyes.com              709\n",
              "www.mirrormedia.mg          626\n",
              "www.chinatimes.com          621\n",
              "m.ctee.com.tw               530\n",
              "udn.com                     448\n",
              "news.mingpao.com            379\n",
              "news.ltn.com.tw             332\n",
              "mops.twse.com.tw            273\n",
              "technews.tw                 128\n",
              "www.businesstoday.com.tw    120\n",
              "www.ettoday.net             118\n",
              "www.hk01.com                117\n",
              "news.tvbs.com.tw            112\n",
              "sina.com.hk                  72\n",
              "www.bnext.com.tw             59\n",
              "hk.on.cc                     57\n",
              "finance.technews.tw          56\n",
              "www.cw.com.tw                45\n",
              "domestic.judicial.gov.tw     30\n",
              "www.wealth.com.tw            29\n",
              "tw.news.yahoo.com            27\n",
              "www.coolloud.org.tw          25\n",
              "www.setn.com                 16\n",
              "www.hbrtaiwan.com            14\n",
              "www.managertoday.com.tw      14\n",
              "m.ltn.com.tw                 12\n",
              "ccc.technews.tw              10\n",
              "www.fsc.gov.tw                9\n",
              "money.udn.com                 8\n",
              "www.cna.com.tw                6\n",
              "ec.ltn.com.tw                 6\n",
              "ol.mingpao.com                4\n",
              "www.nextmag.com.tw            4\n",
              "ent.ltn.com.tw                2\n",
              "estate.ltn.com.tw             1\n",
              "www.nownews.com               1\n",
              "house.ettoday.net             1\n",
              "www.storm.mg                  1\n",
              "news.ebc.net.tw               1\n",
              "Name: homepage, dtype: int64"
            ]
          },
          "metadata": {
            "tags": []
          },
          "execution_count": 7
        }
      ]
    },
    {
      "cell_type": "code",
      "metadata": {
        "id": "b7rt0so3Oz73",
        "colab_type": "code",
        "colab": {
          "base_uri": "https://localhost:8080/",
          "height": 176
        },
        "outputId": "191b26f9-2017-4d62-dc91-fa5f91b2def6"
      },
      "source": [
        "display(data_pd[data_pd['homepage']=='sina.com.hk'][:3])\n",
        "display(data_pd['hyperlink'][60])"
      ],
      "execution_count": null,
      "outputs": [
        {
          "output_type": "display_data",
          "data": {
            "text/html": [
              "<div>\n",
              "<style scoped>\n",
              "    .dataframe tbody tr th:only-of-type {\n",
              "        vertical-align: middle;\n",
              "    }\n",
              "\n",
              "    .dataframe tbody tr th {\n",
              "        vertical-align: top;\n",
              "    }\n",
              "\n",
              "    .dataframe thead th {\n",
              "        text-align: right;\n",
              "    }\n",
              "</style>\n",
              "<table border=\"1\" class=\"dataframe\">\n",
              "  <thead>\n",
              "    <tr style=\"text-align: right;\">\n",
              "      <th></th>\n",
              "      <th>news_ID</th>\n",
              "      <th>hyperlink</th>\n",
              "      <th>content</th>\n",
              "      <th>name</th>\n",
              "      <th>homepage</th>\n",
              "    </tr>\n",
              "  </thead>\n",
              "  <tbody>\n",
              "    <tr>\n",
              "      <th>60</th>\n",
              "      <td>61</td>\n",
              "      <td>https://sina.com.hk/news/article/20190919/1/11...</td>\n",
              "      <td>原標題：龐大董事換血 ### 省略內文 ### 增持計劃不設價格區間。新京報記者王琳琳圖片來...</td>\n",
              "      <td>[]</td>\n",
              "      <td>sina.com.hk</td>\n",
              "    </tr>\n",
              "    <tr>\n",
              "      <th>203</th>\n",
              "      <td>204</td>\n",
              "      <td>https://sina.com.hk/news/article/20190927/1/11...</td>\n",
              "      <td>原標題：海馬、江淮汽車賣房補“窟窿” ### 省略內文 ### 不懼危機。新京報記者秦勝南編...</td>\n",
              "      <td>[]</td>\n",
              "      <td>sina.com.hk</td>\n",
              "    </tr>\n",
              "    <tr>\n",
              "      <th>254</th>\n",
              "      <td>255</td>\n",
              "      <td>https://sina.com.hk/news/article/20190925/1/27...</td>\n",
              "      <td>原標題：特朗普遭眾院彈劾調查對手拜登支持度微升中新網9月25日電據“中央社”報導 ### 省...</td>\n",
              "      <td>[]</td>\n",
              "      <td>sina.com.hk</td>\n",
              "    </tr>\n",
              "  </tbody>\n",
              "</table>\n",
              "</div>"
            ],
            "text/plain": [
              "     news_ID  ...     homepage\n",
              "60        61  ...  sina.com.hk\n",
              "203      204  ...  sina.com.hk\n",
              "254      255  ...  sina.com.hk\n",
              "\n",
              "[3 rows x 5 columns]"
            ]
          },
          "metadata": {
            "tags": []
          }
        },
        {
          "output_type": "display_data",
          "data": {
            "text/plain": [
              "'https://sina.com.hk/news/article/20190919/1/11/2/%E9%BE%90%E5%A4%A7%E8%91%A3%E4%BA%8B%E6%8F%9B%E8%A1%80%E6%B7%B1%E5%95%86%E6%8E%A7%E8%82%A1%E5%92%8C%E5%85%83%E7%B6%AD%E8%B3%87%E7%94%A2%E9%AB%98%E7%AE%A1%E5%85%A5%E9%A7%90-10637091.html'"
            ]
          },
          "metadata": {
            "tags": []
          }
        }
      ]
    },
    {
      "cell_type": "code",
      "metadata": {
        "id": "BR45OouyWe7v",
        "colab_type": "code",
        "colab": {}
      },
      "source": [
        "def extract_content(ii):\n",
        "  global data_pd\n",
        "  r = requests.get(data_pd['hyperlink'][ii])\n",
        "  # Create soup from content of request\n",
        "  c = r.content\n",
        "  soup = BeautifulSoup(c)\n",
        "  warns=False\n",
        "  try:\n",
        "    txt=\"<h1>\"+soup.title.text+\"</h1>\"\n",
        "    if data_pd['homepage'][ii]=='news.cnyes.com':\n",
        "      txt+=soup.find('section').text\n",
        "      txt+=\"<time>\"+soup.find('time').text+\"</time>\"\n",
        "  \n",
        "    elif data_pd['homepage'][ii]=='www.mirrormedia.mg':\n",
        "      for aa in soup.find_all('p'):\n",
        "        txt+=aa.text\n",
        "      txt+=\"<time>\"+soup.find('div', attrs={\"class\":\"date\"}).text+\"</time>\"\n",
        "\n",
        "    elif data_pd['homepage'][ii]==\"www.chinatimes.com\":\n",
        "      txt+=soup.find('div', attrs={\"class\":\"article-body\"}).text\n",
        "      txt+=\"<time>\"+soup.find('time')['datetime']+\"</time>\"\n",
        "\n",
        "    elif data_pd['homepage'][ii]==\"m.ctee.com.tw\":\n",
        "      txt+=soup.find('div', attrs={\"class\":\"entry-content\"}).text\n",
        "      txt+=\"<time>\"+soup.find('div',attrs={\"class\":\"post-meta-date\"}).text+\"</time>\"\n",
        "\n",
        "    elif data_pd['homepage'][ii]==\"udn.com\":\n",
        "      txt+=soup.find('section',attrs={'class':'article-content__editor '}).text\n",
        "      txt+=\"<time>\"+soup.find('time').text+\"</time>\"\n",
        "\n",
        "    elif data_pd['homepage'][ii]==\"news.mingpao.com\":\n",
        "      txt+=soup.find('article').text\n",
        "      txt+=\"<time>\"+soup.find('div',attrs={'itemprop':'datePublished'}).text+\"</time>\"\n",
        "\n",
        "    elif data_pd['homepage'][ii]==\"news.ltn.com.tw\":\n",
        "      for aa in soup.find('div',attrs={'class':'text boxTitle boxText'}).find_all('p'):\n",
        "        if not aa.has_attr('class'):\n",
        "          txt+=aa.text\n",
        "      txt+=\"<time>\"+soup.find('span',attrs={'class':'time'}).text+\"</time>\"\n",
        "\n",
        "    elif data_pd['homepage'][ii]==\"mops.twse.com.tw\":\n",
        "      tmp=soup.find_all('td', attrs={\"style\":\"text-align:left !important;\"})\n",
        "      txt=\"<h1>\"+tmp[6].text+\"</h1>\"+tmp[9].text\n",
        "      txt+=\"<time>\"+tmp[1].text+\"</time>\"\n",
        "\n",
        "    elif  data_pd['homepage'][ii]==\"technews.tw\":\n",
        "      for aa in soup.find('div',class_=\"indent\").find_all('p')[:-1]:\n",
        "        txt+=aa.text\n",
        "      txt+=\"<time>\"+soup.find_all('span', attrs={\"body\"})[1].text+\"</time>\"\n",
        "\n",
        "    elif  data_pd['homepage'][ii]==\"www.businesstoday.com.tw\":\n",
        "      txt+=soup.find('div', attrs={\"itemprop\":\"articleBody\"}).text  \n",
        "      txt+=\"<time>\"+soup.find(\"meta\",attrs={\"property\":\"article:published_time\"})['content']+\"</time>\"\n",
        "\n",
        "    elif  data_pd['homepage'][ii]==\"www.ettoday.net\":\n",
        "      for aa in soup.find(\"div\",attrs={\"class\":\"content-container\"}).find_all(\"p\")[3:]:\n",
        "        if aa.text!='請繼續往下閱讀...':\n",
        "          txt+=aa.text\n",
        "      txt+=\"<time>\"+soup.find(\"time\",attrs={\"class\":\"header-time\"})['datetime']+\"</time>\" \n",
        "\n",
        "    elif data_pd['homepage'][ii]=='www.hk01.com':\n",
        "      for aa in soup.findAll(\"p\")[2:]:\n",
        "        txt+=aa.text\n",
        "      txt+=\"<time>\"+soup.time.text+\"</time>\" \n",
        "\n",
        "    elif data_pd['homepage'][ii]=='news.tvbs.com.tw':\n",
        "      for aa in AA.findAll('br')[::2]:\n",
        "        txt+=aa.previous_element\n",
        "      txt+=\"<time>\"+soup.find(\"meta\",attrs={\"name\":\"pubdate\"})[\"content\"]+\"</time>\" \n",
        "\n",
        "    elif data_pd['homepage'][ii]=='sina.com.hk':\n",
        "      for aa in soup.find(\"div\",attrs={\"class\":\"news-body\"}).findAll(\"p\")[:-5]:\n",
        "        txt+=aa.text\n",
        "      txt+=\"<time>\"+soup.find(\"div\",attrs={\"class\":\"news-datetime\"}).text+\"</time>\" \n",
        "\n",
        "    else:\n",
        "      warns=True\n",
        "\n",
        "    txt+=\"<aml>\"+data_pd['name'][ii]+\"</aml>\"\n",
        "    if warns==False:\n",
        "      file1 = open(f\"{file_loc}5k_news_data/{data_pd['news_ID'][ii]}.txt\",\"w\")#write mode \n",
        "      file1.write(txt) \n",
        "      file1.close()\n",
        "  except:\n",
        "    file1 = open(f\"{file_loc}5k_news_data/{data_pd['news_ID'][ii]}.txt\",\"w\")#write mode \n",
        "    file1.write(\"404-error\") \n",
        "    file1.close()"
      ],
      "execution_count": null,
      "outputs": []
    },
    {
      "cell_type": "code",
      "metadata": {
        "id": "7xSFhuS3MQ2X",
        "colab_type": "code",
        "colab": {}
      },
      "source": [
        "for ii in data_pd.index:\n",
        "  if ii>0:\n",
        "    if data_pd['homepage'][ii]==data_pd['homepage'][ii-1]:\n",
        "      time.sleep(1)\n",
        "  extract_content(ii)"
      ],
      "execution_count": null,
      "outputs": []
    },
    {
      "cell_type": "code",
      "metadata": {
        "id": "TKyT6CUNIEjY",
        "colab_type": "code",
        "colab": {}
      },
      "source": [
        ""
      ],
      "execution_count": null,
      "outputs": []
    }
  ]
}